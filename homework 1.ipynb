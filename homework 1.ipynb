{
 "cells": [
  {
   "cell_type": "markdown",
   "metadata": {},
   "source": [
    "Question 1"
   ]
  },
  {
   "cell_type": "code",
   "execution_count": 1,
   "metadata": {},
   "outputs": [],
   "source": [
    "import math\n",
    "import scipy as sp"
   ]
  },
  {
   "cell_type": "code",
   "execution_count": 2,
   "metadata": {},
   "outputs": [],
   "source": [
    "def func0(x):\n",
    "    return x + math.exp(x)"
   ]
  },
  {
   "cell_type": "code",
   "execution_count": 3,
   "metadata": {},
   "outputs": [],
   "source": [
    "def bisection(low, up):\n",
    "    if (func0(low) * func0(up) >= 0):\n",
    "        print(\"Please choose different bounds \\n\")\n",
    "        return\n",
    "    mid = low\n",
    "    prev = 1000\n",
    "    cur = 500\n",
    "    ite = 0\n",
    "    \n",
    "    #this method will use relative cutoff\n",
    "    while(abs((cur - prev)/prev) >= 0.0001):\n",
    "        ite += 1\n",
    "        mid = (low + up)/2\n",
    "        midval = func0(mid)\n",
    "        \n",
    "        if(midval == 0.0):\n",
    "            break\n",
    "        \n",
    "        if(func0(low) * midval < 0):\n",
    "            up = mid\n",
    "        else:\n",
    "            low = mid\n",
    "            \n",
    "    print(\"root estimate is: \", mid, \" Interations: \", ite)"
   ]
  },
  {
   "cell_type": "code",
   "execution_count": 4,
   "metadata": {},
   "outputs": [
    {
     "name": "stdout",
     "output_type": "stream",
     "text": [
      "root estimate is:  -0.5671432904097838  Interations:  54\n"
     ]
    }
   ],
   "source": [
    "bisection(-2,0)"
   ]
  },
  {
   "cell_type": "code",
   "execution_count": 5,
   "metadata": {},
   "outputs": [],
   "source": [
    "import numpy as np"
   ]
  },
  {
   "cell_type": "code",
   "execution_count": 6,
   "metadata": {},
   "outputs": [],
   "source": [
    "def func1(x):\n",
    "    return -math.exp(x)"
   ]
  },
  {
   "cell_type": "code",
   "execution_count": 7,
   "metadata": {},
   "outputs": [],
   "source": [
    "def fixpt(p):\n",
    "    prev = p\n",
    "    cur = 0\n",
    "    ite = 0\n",
    "    flip = 0\n",
    "    \n",
    "    #using relative cutoff\n",
    "    while(flip == 0):\n",
    "        ite += 1\n",
    "        cur = func1(prev)\n",
    "        \n",
    "        if(func0(cur) == 0.0):\n",
    "            break\n",
    "            \n",
    "        if(abs((prev - cur)/prev) <= 0.0001):\n",
    "            flip = 1\n",
    "            \n",
    "        prev = cur\n",
    "            \n",
    "    print(\"root estimate is: \", cur, \" Interations: \", ite)"
   ]
  },
  {
   "cell_type": "code",
   "execution_count": 8,
   "metadata": {},
   "outputs": [
    {
     "name": "stdout",
     "output_type": "stream",
     "text": [
      "root estimate is:  -0.5671570440012975  Interations:  18\n"
     ]
    }
   ],
   "source": [
    "fixpt(-1)"
   ]
  },
  {
   "cell_type": "code",
   "execution_count": 9,
   "metadata": {},
   "outputs": [],
   "source": [
    "def funcprime(x):\n",
    "    return 1 + math.exp(x)"
   ]
  },
  {
   "cell_type": "code",
   "execution_count": 10,
   "metadata": {},
   "outputs": [],
   "source": [
    "def NewRalph(p):\n",
    "    prev = p\n",
    "    cur = 0\n",
    "    ite = 0\n",
    "    flip = 0\n",
    "\n",
    "    #using relative cutoff\n",
    "    while(flip == 0):\n",
    "        ite += 1\n",
    "        cur = prev - func0(prev)/funcprime(prev)\n",
    "        \n",
    "        if(func0(cur) == 0.0):\n",
    "            break\n",
    "            \n",
    "        if(abs((prev - cur)/prev) <= 0.0001):\n",
    "            flip = 1\n",
    "            \n",
    "        prev = cur\n",
    "            \n",
    "    print(\"root estimate is: \", cur, \" Interations: \", ite)"
   ]
  },
  {
   "cell_type": "code",
   "execution_count": 11,
   "metadata": {},
   "outputs": [
    {
     "name": "stdout",
     "output_type": "stream",
     "text": [
      "root estimate is:  -0.5671432904097838  Interations:  4\n"
     ]
    }
   ],
   "source": [
    "NewRalph(-1)"
   ]
  },
  {
   "cell_type": "code",
   "execution_count": 37,
   "metadata": {},
   "outputs": [],
   "source": [
    "def falsePos(p0, p1):\n",
    "    prev0 = p0\n",
    "    prev1 = p1\n",
    "    cur = 0\n",
    "    ite = 0\n",
    "    flip = 0\n",
    "    \n",
    "    if (func0(prev0) * func0(prev1) >= 0):\n",
    "        print(\"Please choose different bounds \\n\")\n",
    "        return\n",
    "    \n",
    "    #using relative cutoff    \n",
    "    while(flip == 0):\n",
    "        ite += 1\n",
    "        cur = prev0 - func0(prev0) * (prev0 - prev1) / (func0(prev0) - func0(prev1))\n",
    "        \n",
    "        if(func0(cur) == 0.0):\n",
    "            break\n",
    "\n",
    "        if(abs((prev0 - cur)/prev0) <= 0.0001):\n",
    "            flip = 1\n",
    "                    \n",
    "        prev1 = prev0\n",
    "        prev0 = cur\n",
    "        \n",
    "    print(\"root estimate is: \", cur, \" Interations: \", ite)"
   ]
  },
  {
   "cell_type": "code",
   "execution_count": 38,
   "metadata": {},
   "outputs": [
    {
     "name": "stdout",
     "output_type": "stream",
     "text": [
      "root estimate is:  -0.5671432900964599  Interations:  5\n"
     ]
    }
   ],
   "source": [
    "falsePos(-2,0)"
   ]
  },
  {
   "cell_type": "markdown",
   "metadata": {},
   "source": [
    "Question 2"
   ]
  },
  {
   "cell_type": "code",
   "execution_count": 122,
   "metadata": {},
   "outputs": [],
   "source": [
    "def func2(x):\n",
    "    return math.tan(x)-x"
   ]
  },
  {
   "cell_type": "code",
   "execution_count": 125,
   "metadata": {},
   "outputs": [
    {
     "data": {
      "text/plain": [
       "0.1373320545511847"
      ]
     },
     "execution_count": 125,
     "metadata": {},
     "output_type": "execute_result"
    }
   ],
   "source": [
    "func2(4)\n",
    "func2(4.5)"
   ]
  },
  {
   "cell_type": "code",
   "execution_count": 120,
   "metadata": {},
   "outputs": [],
   "source": [
    "def bisection2(low, up):\n",
    "    if (func2(low) * func2(up) >= 0):\n",
    "        print(\"Please choose different bounds \\n\")\n",
    "        return\n",
    "    mid = low\n",
    "    ite = 0\n",
    "    \n",
    "    #this method will use absolute cutoff\n",
    "    while((up - low) >= 0.0001):\n",
    "        ite += 1\n",
    "        mid = (low + up)/2\n",
    "        midval = func2(mid)\n",
    "        \n",
    "        if(midval == 0.0):\n",
    "            break\n",
    "        \n",
    "        if(func2(low) * midval < 0):\n",
    "            up = mid\n",
    "        else:\n",
    "            low = mid\n",
    "            \n",
    "    print(\"root estimate is: \", mid, \" Interations: \", ite)"
   ]
  },
  {
   "cell_type": "code",
   "execution_count": 126,
   "metadata": {},
   "outputs": [
    {
     "name": "stdout",
     "output_type": "stream",
     "text": [
      "root estimate is:  4.49346923828125  Interations:  13\n"
     ]
    }
   ],
   "source": [
    "bisection2(4,4.5)"
   ]
  },
  {
   "cell_type": "code",
   "execution_count": 54,
   "metadata": {},
   "outputs": [],
   "source": [
    "def func2(x):\n",
    "    return x**3 - 25"
   ]
  },
  {
   "cell_type": "code",
   "execution_count": 55,
   "metadata": {},
   "outputs": [
    {
     "name": "stdout",
     "output_type": "stream",
     "text": [
      "root estimate is:  2.92401123046875  Interations:  14\n"
     ]
    }
   ],
   "source": [
    "bisection2(2.5,3.5)"
   ]
  },
  {
   "cell_type": "markdown",
   "metadata": {},
   "source": [
    "Question 3"
   ]
  },
  {
   "cell_type": "code",
   "execution_count": 103,
   "metadata": {},
   "outputs": [],
   "source": [
    "def func3(x):\n",
    "    return -2*math.sin(math.pi*x)"
   ]
  },
  {
   "cell_type": "code",
   "execution_count": 104,
   "metadata": {},
   "outputs": [],
   "source": [
    "def fixpt(p):\n",
    "    prev = p\n",
    "    cur = 0\n",
    "    ite = 0\n",
    "    flip = 0\n",
    "    \n",
    "    #using absolute cutoff\n",
    "    while(flip == 0):\n",
    "        ite += 1\n",
    "        cur = func3(prev)\n",
    "        \n",
    "        if(func3(cur) == 0.0):\n",
    "            break\n",
    "            \n",
    "        if(abs(func3(cur)) <= 0.01):\n",
    "            flip = 1\n",
    "            \n",
    "        prev = cur\n",
    "        print(cur)    \n",
    "    print(\"root estimate is: \", cur, \" Interations: \", ite)"
   ]
  },
  {
   "cell_type": "code",
   "execution_count": 105,
   "metadata": {},
   "outputs": [
    {
     "name": "stdout",
     "output_type": "stream",
     "text": [
      "-2.4492935982947064e-16\n",
      "root estimate is:  -2.4492935982947064e-16  Interations:  1\n"
     ]
    }
   ],
   "source": [
    "fixpt(1)"
   ]
  },
  {
   "cell_type": "markdown",
   "metadata": {},
   "source": [
    "Question 4"
   ]
  },
  {
   "cell_type": "markdown",
   "metadata": {},
   "source": [
    "A. The formula from the homework has commited sin number 1, and 2. We are subtracting similar numbers in the numerator and dividing one small number by another"
   ]
  },
  {
   "cell_type": "code",
   "execution_count": 87,
   "metadata": {},
   "outputs": [],
   "source": [
    "def func4(x):\n",
    "    return 135*x*(1+x)**360 - (1+x)**360 + 1"
   ]
  },
  {
   "cell_type": "code",
   "execution_count": 88,
   "metadata": {},
   "outputs": [],
   "source": [
    "def func4prime(x):\n",
    "    return -360*(1+x)**359 + 48600*x*(1+x)**359 + 135*(1+x)**360"
   ]
  },
  {
   "cell_type": "code",
   "execution_count": 95,
   "metadata": {},
   "outputs": [],
   "source": [
    "def NewRalph(p):\n",
    "    prev = p\n",
    "    cur = 0\n",
    "    ite = 0\n",
    "    flip = 0\n",
    "\n",
    "    #using absolute cutoff\n",
    "    while(flip == 0):\n",
    "        ite += 1\n",
    "        cur = prev - func4(prev)/func4prime(prev)\n",
    "        \n",
    "        if(func4(cur) == 0.0):\n",
    "            break\n",
    "            \n",
    "        if(abs(func4(cur)) <= 0.0001):\n",
    "            flip = 1\n",
    "        \n",
    "        print(cur)\n",
    "        prev = cur\n",
    "            \n",
    "    print(\"root estimate is: \", cur, \" Interations: \", ite)"
   ]
  },
  {
   "cell_type": "code",
   "execution_count": 99,
   "metadata": {},
   "outputs": [
    {
     "name": "stdout",
     "output_type": "stream",
     "text": [
      "0.047270261094282985\n",
      "0.044559035005446994\n",
      "0.041867677817839066\n",
      "0.03919782310240988\n",
      "0.036551459231673335\n",
      "0.03393103474357936\n",
      "0.031339604409445124\n",
      "0.02878103544984549\n",
      "0.026260304223378283\n",
      "0.023783931230164503\n",
      "0.021360630321290958\n",
      "0.01900229196600952\n",
      "0.016725485952415773\n",
      "0.014553756239116082\n",
      "0.012521065756478343\n",
      "0.010676721044769336\n",
      "0.009091512327014148\n",
      "0.007861521533555871\n",
      "0.007090534619683178\n",
      "0.006791421855839355\n",
      "0.006750614974336009\n",
      "0.006749917359968316\n",
      "root estimate is:  0.006749917359968316  Interations:  22\n"
     ]
    }
   ],
   "source": [
    "NewRalph(0.05)"
   ]
  },
  {
   "cell_type": "markdown",
   "metadata": {},
   "source": [
    "Question 5"
   ]
  },
  {
   "cell_type": "code",
   "execution_count": 106,
   "metadata": {},
   "outputs": [],
   "source": [
    "def func5(x):\n",
    "    return (x**2-3)/2"
   ]
  },
  {
   "cell_type": "code",
   "execution_count": 111,
   "metadata": {},
   "outputs": [],
   "source": [
    "def func6(x):\n",
    "    return x**2-2*x-3"
   ]
  },
  {
   "cell_type": "code",
   "execution_count": 112,
   "metadata": {},
   "outputs": [],
   "source": [
    "def fixpt(p):\n",
    "    prev = p\n",
    "    cur = 0\n",
    "    ite = 0\n",
    "    flip = 0\n",
    "    \n",
    "    #using relative cutoff\n",
    "    while(flip == 0):\n",
    "        ite += 1\n",
    "        cur = func5(prev)\n",
    "        \n",
    "        if(func6(cur) == 0.0):\n",
    "            break\n",
    "            \n",
    "        if(abs((prev - cur)/prev) <= 0.0001):\n",
    "            flip = 1\n",
    "            \n",
    "        print(cur)\n",
    "        prev = cur\n",
    "        \n",
    "    print(\"root estimate is: \", cur, \" Interations: \", ite)"
   ]
  },
  {
   "cell_type": "code",
   "execution_count": 118,
   "metadata": {},
   "outputs": [
    {
     "name": "stdout",
     "output_type": "stream",
     "text": [
      "4.625\n",
      "9.1953125\n",
      "40.776885986328125\n",
      "829.8772153710015\n",
      "344346.5962959638\n",
      "59287289188.80773\n",
      "1.757491329678659e+21\n",
      "1.5443878869478305e+42\n",
      "1.1925669726755925e+84\n"
     ]
    },
    {
     "ename": "OverflowError",
     "evalue": "(34, 'Result too large')",
     "output_type": "error",
     "traceback": [
      "\u001b[1;31m---------------------------------------------------------------------------\u001b[0m",
      "\u001b[1;31mOverflowError\u001b[0m                             Traceback (most recent call last)",
      "\u001b[1;32m<ipython-input-118-279633ff46b9>\u001b[0m in \u001b[0;36m<module>\u001b[1;34m\u001b[0m\n\u001b[1;32m----> 1\u001b[1;33m \u001b[0mfixpt\u001b[0m\u001b[1;33m(\u001b[0m\u001b[1;36m3.5\u001b[0m\u001b[1;33m)\u001b[0m\u001b[1;33m\u001b[0m\u001b[1;33m\u001b[0m\u001b[0m\n\u001b[0m",
      "\u001b[1;32m<ipython-input-112-1b8da2f12392>\u001b[0m in \u001b[0;36mfixpt\u001b[1;34m(p)\u001b[0m\n\u001b[0;32m     10\u001b[0m         \u001b[0mcur\u001b[0m \u001b[1;33m=\u001b[0m \u001b[0mfunc5\u001b[0m\u001b[1;33m(\u001b[0m\u001b[0mprev\u001b[0m\u001b[1;33m)\u001b[0m\u001b[1;33m\u001b[0m\u001b[1;33m\u001b[0m\u001b[0m\n\u001b[0;32m     11\u001b[0m \u001b[1;33m\u001b[0m\u001b[0m\n\u001b[1;32m---> 12\u001b[1;33m         \u001b[1;32mif\u001b[0m\u001b[1;33m(\u001b[0m\u001b[0mfunc6\u001b[0m\u001b[1;33m(\u001b[0m\u001b[0mcur\u001b[0m\u001b[1;33m)\u001b[0m \u001b[1;33m==\u001b[0m \u001b[1;36m0.0\u001b[0m\u001b[1;33m)\u001b[0m\u001b[1;33m:\u001b[0m\u001b[1;33m\u001b[0m\u001b[1;33m\u001b[0m\u001b[0m\n\u001b[0m\u001b[0;32m     13\u001b[0m             \u001b[1;32mbreak\u001b[0m\u001b[1;33m\u001b[0m\u001b[1;33m\u001b[0m\u001b[0m\n\u001b[0;32m     14\u001b[0m \u001b[1;33m\u001b[0m\u001b[0m\n",
      "\u001b[1;32m<ipython-input-111-4a8a304d5579>\u001b[0m in \u001b[0;36mfunc6\u001b[1;34m(x)\u001b[0m\n\u001b[0;32m      1\u001b[0m \u001b[1;32mdef\u001b[0m \u001b[0mfunc6\u001b[0m\u001b[1;33m(\u001b[0m\u001b[0mx\u001b[0m\u001b[1;33m)\u001b[0m\u001b[1;33m:\u001b[0m\u001b[1;33m\u001b[0m\u001b[1;33m\u001b[0m\u001b[0m\n\u001b[1;32m----> 2\u001b[1;33m     \u001b[1;32mreturn\u001b[0m \u001b[0mx\u001b[0m\u001b[1;33m**\u001b[0m\u001b[1;36m2\u001b[0m\u001b[1;33m-\u001b[0m\u001b[1;36m2\u001b[0m\u001b[1;33m*\u001b[0m\u001b[0mx\u001b[0m\u001b[1;33m-\u001b[0m\u001b[1;36m3\u001b[0m\u001b[1;33m\u001b[0m\u001b[1;33m\u001b[0m\u001b[0m\n\u001b[0m",
      "\u001b[1;31mOverflowError\u001b[0m: (34, 'Result too large')"
     ]
    }
   ],
   "source": [
    "fixpt(3.5)"
   ]
  },
  {
   "cell_type": "code",
   "execution_count": null,
   "metadata": {},
   "outputs": [],
   "source": []
  }
 ],
 "metadata": {
  "kernelspec": {
   "display_name": "Python 3",
   "language": "python",
   "name": "python3"
  },
  "language_info": {
   "codemirror_mode": {
    "name": "ipython",
    "version": 3
   },
   "file_extension": ".py",
   "mimetype": "text/x-python",
   "name": "python",
   "nbconvert_exporter": "python",
   "pygments_lexer": "ipython3",
   "version": "3.6.10"
  }
 },
 "nbformat": 4,
 "nbformat_minor": 2
}
